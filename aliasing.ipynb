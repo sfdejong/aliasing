{
 "cells": [
  {
   "cell_type": "code",
   "execution_count": 5,
   "metadata": {},
   "outputs": [
    {
     "data": {
      "application/vnd.jupyter.widget-view+json": {
       "model_id": "6e779f23eb534a688e09984b7e541e71",
       "version_major": 2,
       "version_minor": 0
      },
      "text/plain": [
       "interactive(children=(IntSlider(value=1, description='Signal freq:', max=25, min=1), IntSlider(value=26, descr…"
      ]
     },
     "metadata": {},
     "output_type": "display_data"
    },
    {
     "data": {
      "text/plain": [
       "<function __main__.adjustfrequency(signal_frequency, sampling_frequency)>"
      ]
     },
     "execution_count": 5,
     "metadata": {},
     "output_type": "execute_result"
    }
   ],
   "source": [
    "import ipywidgets as widgets\n",
    "import numpy as np\n",
    "import matplotlib.pyplot as plt\n",
    "plt.rcParams['figure.figsize'] = [20, 10]\n",
    "\n",
    "\n",
    "def calculate_fft( signal, dur=None, rate=None ) -> tuple:\n",
    "\n",
    "    import numpy as np\n",
    "    \n",
    "    Nsamples = len(signal)\n",
    "    frequency_axis =  np.fft.fftfreq( Nsamples, dur/Nsamples )[0:Nsamples//2]\n",
    "    Fourier_signal = np.fft.fft( signal )\n",
    "    \n",
    "    DFT      = np.abs( Fourier_signal[0:Nsamples//2] )\n",
    "    DFT[1:] += np.abs( Fourier_signal[-1:(Nsamples+1)//2:-1] )\n",
    "    DFT     /= Nsamples\n",
    "    \n",
    "    DFT[0] = np.mean( signal )\n",
    "    \n",
    "    return frequency_axis, DFT\n",
    "\n",
    "\n",
    "def adjustfrequency(signal_frequency,sampling_frequency):\n",
    "    \n",
    "    fig, ((timedomain,freqdomain), (sampledtimedomain,sampledfreqdomain)) = plt.subplots(2, 2)\n",
    "    plt.subplots_adjust(hspace=0.4)\n",
    "    \n",
    "    \n",
    "    # TIME DOMAIN PART\n",
    "    \n",
    "    time = np.arange(0.0, 1.0, 0.001)\n",
    "    volt = np.sin( signal_frequency *2*np.pi*time)\n",
    "    \n",
    "    samplepoints = np.arange(0.0, 1.0, 1/sampling_frequency)\n",
    "    volt_samples = np.sin( signal_frequency *2*np.pi*samplepoints )\n",
    "    \n",
    "    timedomain.plot(time, volt,label='analogue signal')\n",
    "    timedomain.set(xlabel='Time (s)', ylabel='Amplitude (V)', title='Time domain of analogue signal',xlim=[0,1],ylim=[-1.1,1.1])\n",
    "    timedomain.legend(loc='upper right')\n",
    "    timedomain.grid()\n",
    "    \n",
    "\n",
    "    sampledtimedomain.stem(samplepoints, volt_samples,markerfmt='C0X-',linefmt='C2--',basefmt='None', label='sampled signal')\n",
    "    sampledtimedomain.plot(time, volt, ':',color='0.7')\n",
    "    sampledtimedomain.set(xlabel='Time (s)', ylabel='Amplitude (V)', title='Time domain of sampled signal',xlim=[0,1],ylim=[-1.1,1.1])\n",
    "    sampledtimedomain.legend(loc='upper right')\n",
    "    sampledtimedomain.grid()\n",
    "\n",
    "    \n",
    "    # FOURIER DOMAIN PART\n",
    "    \n",
    "    freq_smooth = np.arange(0,27,0.001)\n",
    "    fft_smooth = 1*np.array(freq_smooth == signal_frequency)\n",
    "    freqaxis,fft = calculate_fft( volt_samples, dur=1 )\n",
    "    \n",
    "    freqdomain.plot(freq_smooth,fft_smooth, label='analogue/analytic FT')\n",
    "    freqdomain.plot([sampling_frequency/2,sampling_frequency/2],[-1,2],'C1-',label='Nyquist frequency')\n",
    "    freqdomain.set(xlabel='Frequency (Hz)', ylabel='Amplitude of Fourier coefficient', title='Frequency domain of analogue signal',xlim=[0,26],ylim=[0,1.1])\n",
    "    freqdomain.legend(loc='upper right')\n",
    "    freqdomain.grid()\n",
    "    \n",
    "    sampledfreqdomain.stem(freqaxis,fft,markerfmt='C0X-',linefmt='C0--',basefmt='None', label='FFT of sample')\n",
    "    sampledfreqdomain.plot([sampling_frequency/2,sampling_frequency/2],[-1,2],'C1-',label='Nyquist frequency')\n",
    "    sampledfreqdomain.set(xlabel='Frequency (Hz)', ylabel='Amplitude of Fourier coefficient', title='Frequency domain of sampled signal',xlim=[0,26],ylim=[0,1.1])\n",
    "    sampledfreqdomain.legend(loc='upper right')\n",
    "    sampledfreqdomain.grid()\n",
    "\n",
    "    plt.show()\n",
    "\n",
    "widgets.interact(adjustfrequency, signal_frequency=widgets.IntSlider(min=1, max=25, step=1, value=1, description='Signal freq:'), sampling_frequency=widgets.IntSlider(min=12, max=50, step=2, value=26, description='Sampling:'))"
   ]
  }
 ],
 "metadata": {
  "kernelspec": {
   "display_name": "Python 3",
   "language": "python",
   "name": "python3"
  },
  "language_info": {
   "codemirror_mode": {
    "name": "ipython",
    "version": 3
   },
   "file_extension": ".py",
   "mimetype": "text/x-python",
   "name": "python",
   "nbconvert_exporter": "python",
   "pygments_lexer": "ipython3",
   "version": "3.6.5"
  }
 },
 "nbformat": 4,
 "nbformat_minor": 2
}
